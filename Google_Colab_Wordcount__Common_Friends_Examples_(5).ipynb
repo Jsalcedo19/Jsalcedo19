{
  "nbformat": 4,
  "nbformat_minor": 0,
  "metadata": {
    "kernelspec": {
      "name": "python3",
      "display_name": "Python 3"
    },
    "colab": {
      "provenance": []
    }
  },
  "cells": [
    {
      "cell_type": "code",
      "metadata": {
        "scrolled": true,
        "id": "Gbizw0OcBfis",
        "colab": {
          "base_uri": "https://localhost:8080/"
        },
        "outputId": "e237aa0d-0133-4156-d47e-d11258723cd7"
      },
      "source": [
        "#Install Java Runtime 8\n",
        "import os       #importing os to set environment variable\n",
        "!apt-get remove -y java*\n",
        "def install_java():\n",
        "  !apt-get install -y openjdk-8-jdk-headless -qq > /dev/null      #install openjdk\n",
        "  os.environ[\"JAVA_HOME\"] = \"/usr/lib/jvm/java-8-openjdk-amd64\"     #set environment variable\n",
        "  !java -version       #check java version\n",
        "install_java()"
      ],
      "execution_count": 1,
      "outputs": [
        {
          "output_type": "stream",
          "name": "stdout",
          "text": [
            "Reading package lists... Done\n",
            "Building dependency tree       \n",
            "Reading state information... Done\n",
            "Note, selecting 'java-propose-classpath' for glob 'java*'\n",
            "Note, selecting 'java2-sdk' for glob 'java*'\n",
            "Note, selecting 'java12-sdk-headless' for glob 'java*'\n",
            "Note, selecting 'java2html' for glob 'java*'\n",
            "Note, selecting 'java9-sdk-headless' for glob 'java*'\n",
            "Note, selecting 'java-gcj-compat' for glob 'java*'\n",
            "Note, selecting 'javascript-common' for glob 'java*'\n",
            "Note, selecting 'java11-runtime' for glob 'java*'\n",
            "Note, selecting 'java17-sdk' for glob 'java*'\n",
            "Note, selecting 'javacc4' for glob 'java*'\n",
            "Note, selecting 'java3ds-fileloader' for glob 'java*'\n",
            "Note, selecting 'java10-runtime' for glob 'java*'\n",
            "Note, selecting 'javahelp2-doc' for glob 'java*'\n",
            "Note, selecting 'java-sdk-headless' for glob 'java*'\n",
            "Note, selecting 'java15-sdk' for glob 'java*'\n",
            "Note, selecting 'java-sdk' for glob 'java*'\n",
            "Note, selecting 'java6-sdk-headless' for glob 'java*'\n",
            "Note, selecting 'java13-sdk' for glob 'java*'\n",
            "Note, selecting 'java13-runtime' for glob 'java*'\n",
            "Note, selecting 'java11-sdk' for glob 'java*'\n",
            "Note, selecting 'java12-runtime' for glob 'java*'\n",
            "Note, selecting 'java10-sdk-headless' for glob 'java*'\n",
            "Note, selecting 'java13-sdk-headless' for glob 'java*'\n",
            "Note, selecting 'java15-runtime' for glob 'java*'\n",
            "Note, selecting 'javalex' for glob 'java*'\n",
            "Note, selecting 'java16-sdk-headless' for glob 'java*'\n",
            "Note, selecting 'java-compiler' for glob 'java*'\n",
            "Note, selecting 'java14-runtime' for glob 'java*'\n",
            "Note, selecting 'java1-runtime-headless' for glob 'java*'\n",
            "Note, selecting 'java-runtime' for glob 'java*'\n",
            "Note, selecting 'java9-sdk' for glob 'java*'\n",
            "Note, selecting 'java2-runtime' for glob 'java*'\n",
            "Note, selecting 'java10-runtime-headless' for glob 'java*'\n",
            "Note, selecting 'javamorph' for glob 'java*'\n",
            "Note, selecting 'java7-sdk' for glob 'java*'\n",
            "Note, selecting 'java17-runtime' for glob 'java*'\n",
            "Note, selecting 'java1-runtime' for glob 'java*'\n",
            "Note, selecting 'java2-runtime-headless' for glob 'java*'\n",
            "Note, selecting 'javahelper' for glob 'java*'\n",
            "Note, selecting 'java5-runtime' for glob 'java*'\n",
            "Note, selecting 'java5-sdk' for glob 'java*'\n",
            "Note, selecting 'java16-runtime' for glob 'java*'\n",
            "Note, selecting 'java11-runtime-headless' for glob 'java*'\n",
            "Note, selecting 'java7-sdk-headless' for glob 'java*'\n",
            "Note, selecting 'javacc4-doc' for glob 'java*'\n",
            "Note, selecting 'java14-runtime-headless' for glob 'java*'\n",
            "Note, selecting 'java12-runtime-headless' for glob 'java*'\n",
            "Note, selecting 'java7-runtime' for glob 'java*'\n",
            "Note, selecting 'java14-sdk-headless' for glob 'java*'\n",
            "Note, selecting 'java15-runtime-headless' for glob 'java*'\n",
            "Note, selecting 'java6-runtime' for glob 'java*'\n",
            "Note, selecting 'javacc' for glob 'java*'\n",
            "Note, selecting 'java17-sdk-headless' for glob 'java*'\n",
            "Note, selecting 'java13-runtime-headless' for glob 'java*'\n",
            "Note, selecting 'java-runtime-headless' for glob 'java*'\n",
            "Note, selecting 'java16-sdk' for glob 'java*'\n",
            "Note, selecting 'java16-runtime-headless' for glob 'java*'\n",
            "Note, selecting 'java9-runtime' for glob 'java*'\n",
            "Note, selecting 'java5-runtime-headless' for glob 'java*'\n",
            "Note, selecting 'java14-sdk' for glob 'java*'\n",
            "Note, selecting 'java12-sdk' for glob 'java*'\n",
            "Note, selecting 'java8-runtime' for glob 'java*'\n",
            "Note, selecting 'java5-sdk-headless' for glob 'java*'\n",
            "Note, selecting 'java11-sdk-headless' for glob 'java*'\n",
            "Note, selecting 'java17-runtime-headless' for glob 'java*'\n",
            "Note, selecting 'java10-sdk' for glob 'java*'\n",
            "Note, selecting 'javahelp2' for glob 'java*'\n",
            "Note, selecting 'java6-runtime-headless' for glob 'java*'\n",
            "Note, selecting 'java8-sdk-headless' for glob 'java*'\n",
            "Note, selecting 'javacc-doc' for glob 'java*'\n",
            "Note, selecting 'java7-runtime-headless' for glob 'java*'\n",
            "Note, selecting 'java-package' for glob 'java*'\n",
            "Note, selecting 'java15-sdk-headless' for glob 'java*'\n",
            "Note, selecting 'java2-sdk-headless' for glob 'java*'\n",
            "Note, selecting 'java8-sdk' for glob 'java*'\n",
            "Note, selecting 'java8-runtime-headless' for glob 'java*'\n",
            "Note, selecting 'java-common' for glob 'java*'\n",
            "Note, selecting 'java6-sdk' for glob 'java*'\n",
            "Note, selecting 'java-wrappers' for glob 'java*'\n",
            "Note, selecting 'java-virtual-machine' for glob 'java*'\n",
            "Note, selecting 'java-policy' for glob 'java*'\n",
            "Note, selecting 'java9-runtime-headless' for glob 'java*'\n",
            "Package 'java1-runtime-headless' is not installed, so not removed\n",
            "Package 'java1-runtime' is not installed, so not removed\n",
            "Package 'javalex' is not installed, so not removed\n",
            "Package 'java-virtual-machine' is not installed, so not removed\n",
            "Package 'java-gcj-compat' is not installed, so not removed\n",
            "Note, selecting 'openjdk-17-jdk' instead of 'java12-sdk'\n",
            "Note, selecting 'openjdk-17-jdk' instead of 'java13-sdk'\n",
            "Note, selecting 'openjdk-17-jdk' instead of 'java14-sdk'\n",
            "Note, selecting 'openjdk-17-jdk' instead of 'java15-sdk'\n",
            "Note, selecting 'openjdk-17-jdk' instead of 'java16-sdk'\n",
            "Note, selecting 'openjdk-17-jdk' instead of 'java17-sdk'\n",
            "Note, selecting 'openjdk-17-jdk-headless' instead of 'java12-sdk-headless'\n",
            "Note, selecting 'openjdk-17-jdk-headless' instead of 'java13-sdk-headless'\n",
            "Note, selecting 'openjdk-17-jdk-headless' instead of 'java14-sdk-headless'\n",
            "Note, selecting 'openjdk-17-jdk-headless' instead of 'java15-sdk-headless'\n",
            "Note, selecting 'openjdk-17-jdk-headless' instead of 'java16-sdk-headless'\n",
            "Note, selecting 'openjdk-17-jdk-headless' instead of 'java17-sdk-headless'\n",
            "Note, selecting 'openjdk-17-jre' instead of 'java12-runtime'\n",
            "Note, selecting 'openjdk-17-jre' instead of 'java13-runtime'\n",
            "Note, selecting 'openjdk-17-jre' instead of 'java14-runtime'\n",
            "Note, selecting 'openjdk-17-jre' instead of 'java15-runtime'\n",
            "Note, selecting 'openjdk-17-jre' instead of 'java16-runtime'\n",
            "Note, selecting 'openjdk-17-jre' instead of 'java17-runtime'\n",
            "Note, selecting 'openjdk-17-jre-headless' instead of 'java12-runtime-headless'\n",
            "Note, selecting 'openjdk-17-jre-headless' instead of 'java13-runtime-headless'\n",
            "Note, selecting 'openjdk-17-jre-headless' instead of 'java14-runtime-headless'\n",
            "Note, selecting 'openjdk-17-jre-headless' instead of 'java15-runtime-headless'\n",
            "Note, selecting 'openjdk-17-jre-headless' instead of 'java16-runtime-headless'\n",
            "Note, selecting 'openjdk-17-jre-headless' instead of 'java17-runtime-headless'\n",
            "Package 'javascript-common' is not installed, so not removed\n",
            "Package 'java-policy' is not installed, so not removed\n",
            "Package 'java-wrappers' is not installed, so not removed\n",
            "Package 'java2html' is not installed, so not removed\n",
            "Package 'java3ds-fileloader' is not installed, so not removed\n",
            "Package 'javacc' is not installed, so not removed\n",
            "Package 'javacc-doc' is not installed, so not removed\n",
            "Package 'javacc4' is not installed, so not removed\n",
            "Package 'javacc4-doc' is not installed, so not removed\n",
            "Package 'javahelp2' is not installed, so not removed\n",
            "Package 'javahelp2-doc' is not installed, so not removed\n",
            "Package 'javamorph' is not installed, so not removed\n",
            "Package 'java-package' is not installed, so not removed\n",
            "Package 'java-propose-classpath' is not installed, so not removed\n",
            "Package 'javahelper' is not installed, so not removed\n",
            "The following packages were automatically installed and are no longer required:\n",
            "  cuda-demo-suite-11-2 cuda-documentation-11-2 cuda-drivers cuda-drivers-525\n",
            "  cuda-nsight-compute-11-2 cuda-nsight-systems-11-2 cuda-runtime-11-2\n",
            "  cuda-samples-11-2 dkms keyboard-configuration libargon2-0 libcap2\n",
            "  libcryptsetup12 libdevmapper1.02.1 libfontenc1 libidn11 libip4tc0\n",
            "  libjansson4 libnvidia-cfg1-525 libnvidia-common-460 libnvidia-common-525\n",
            "  libnvidia-decode-525 libnvidia-encode-525 libnvidia-extra-525\n",
            "  libnvidia-fbc1-525 libnvidia-gl-525 libpam-systemd libpcsclite1\n",
            "  libpolkit-agent-1-0 libpolkit-backend-1-0 libpolkit-gobject-1-0 libxfont2\n",
            "  libxkbfile1 libxnvctrl0 libxtst6 nsight-compute-2020.3.1\n",
            "  nsight-systems-2020.4.3 nvidia-compute-utils-525 nvidia-dkms-525\n",
            "  nvidia-driver-525 nvidia-kernel-common-525 nvidia-kernel-source-525\n",
            "  nvidia-modprobe nvidia-settings nvidia-utils-525 policykit-1\n",
            "  policykit-1-gnome python3-xkit screen-resolution-extra systemd systemd-sysv\n",
            "  udev x11-xkb-utils xserver-common xserver-xorg-core-hwe-18.04\n",
            "  xserver-xorg-video-nvidia-525\n",
            "Use 'apt autoremove' to remove them.\n",
            "The following packages will be REMOVED:\n",
            "  ca-certificates-java cuda-11-2 cuda-nsight-11-2 cuda-nvvp-11-2\n",
            "  cuda-toolkit-11-2 cuda-tools-11-2 cuda-visual-tools-11-2 default-jre\n",
            "  default-jre-headless java-common openjdk-11-jdk-headless openjdk-11-jre\n",
            "  openjdk-11-jre-headless\n",
            "0 upgraded, 0 newly installed, 13 to remove and 20 not upgraded.\n",
            "After this operation, 656 MB disk space will be freed.\n",
            "(Reading database ... 124016 files and directories currently installed.)\n",
            "Removing cuda-11-2 (11.2.2-1) ...\n",
            "Removing cuda-toolkit-11-2 (11.2.2-1) ...\n",
            "Removing alternatives\n",
            "Removing cuda-tools-11-2 (11.2.2-1) ...\n",
            "Removing cuda-visual-tools-11-2 (11.2.2-1) ...\n",
            "Removing cuda-nvvp-11-2 (11.2.152-1) ...\n",
            "Removing cuda-nsight-11-2 (11.2.152-1) ...\n",
            "Removing default-jre (2:1.11-68ubuntu1~18.04.1) ...\n",
            "Removing openjdk-11-jre:amd64 (11.0.17+8-1ubuntu2~18.04) ...\n",
            "Removing openjdk-11-jdk-headless:amd64 (11.0.17+8-1ubuntu2~18.04) ...\n",
            "Removing default-jre-headless (2:1.11-68ubuntu1~18.04.1) ...\n",
            "Removing ca-certificates-java (20180516ubuntu1~18.04.1) ...\n",
            "Removing openjdk-11-jre-headless:amd64 (11.0.17+8-1ubuntu2~18.04) ...\n",
            "Removing java-common (0.68ubuntu1~18.04.1) ...\n",
            "Processing triggers for man-db (2.8.3-2ubuntu0.1) ...\n",
            "Processing triggers for ca-certificates (20211016ubuntu0.18.04.1) ...\n",
            "Updating certificates in /etc/ssl/certs...\n",
            "0 added, 0 removed; done.\n",
            "Running hooks in /etc/ca-certificates/update.d...\n",
            "\n",
            "updates of cacerts keystore disabled.\n",
            "done.\n",
            "Processing triggers for hicolor-icon-theme (0.17-2) ...\n",
            "Processing triggers for mime-support (3.60ubuntu1) ...\n",
            "openjdk version \"1.8.0_352\"\n",
            "OpenJDK Runtime Environment (build 1.8.0_352-8u352-ga-1~18.04-b08)\n",
            "OpenJDK 64-Bit Server VM (build 25.352-b08, mixed mode)\n"
          ]
        }
      ]
    },
    {
      "cell_type": "code",
      "metadata": {
        "id": "-cm1g7UyFBRe",
        "colab": {
          "base_uri": "https://localhost:8080/",
          "height": 91
        },
        "outputId": "0682e108-fbf2-4344-be43-36139ab3a401"
      },
      "source": [
        "#Initialize Spark Runtime Environment\n",
        "!export JAVA_HOME=/usr/lib/jvm/java-8-openjdk-amd64/jre\n",
        "!pip install pyspark\n",
        "import pyspark\n",
        "from pyspark.sql import SparkSession\n",
        "import pandas as pd\n",
        "from pyspark.sql import SQLContext\n",
        "\n",
        "spark = SparkSession.builder \\\n",
        "   .master(\"local\") \\\n",
        "   .appName(\"Wordcount & Friends Tutorial\") \\\n",
        "   .config(\"spark.executor.memory\", \"2gb\") \\\n",
        "   .getOrCreate()\n",
        "   \n",
        "sc = spark.sparkContext\n",
        "sqlContext = SQLContext(sc)\n",
        "\n",
        "sc.version"
      ],
      "execution_count": 3,
      "outputs": [
        {
          "output_type": "stream",
          "name": "stdout",
          "text": [
            "Looking in indexes: https://pypi.org/simple, https://us-python.pkg.dev/colab-wheels/public/simple/\n",
            "Requirement already satisfied: pyspark in /usr/local/lib/python3.8/dist-packages (3.3.1)\n",
            "Requirement already satisfied: py4j==0.10.9.5 in /usr/local/lib/python3.8/dist-packages (from pyspark) (0.10.9.5)\n"
          ]
        },
        {
          "output_type": "execute_result",
          "data": {
            "text/plain": [
              "'3.3.1'"
            ],
            "application/vnd.google.colaboratory.intrinsic+json": {
              "type": "string"
            }
          },
          "metadata": {},
          "execution_count": 3
        }
      ]
    },
    {
      "cell_type": "markdown",
      "metadata": {
        "id": "yJS7s4JaBfiy"
      },
      "source": [
        "PART-1:  \"WORDCOUNT\" EXAMPLE USING MAPREDUCE"
      ]
    },
    {
      "cell_type": "code",
      "metadata": {
        "scrolled": true,
        "id": "MS4nn8uMBfiz",
        "colab": {
          "base_uri": "https://localhost:8080/"
        },
        "outputId": "0b46f799-c252-41f8-d35a-b138994a5522"
      },
      "source": [
        "# Fetch the text file for wordcount example\n",
        "!wget https://raw.githubusercontent.com/ibarabasi/wordcount/master/wordcount\n",
        "!cat wordcount"
      ],
      "execution_count": 4,
      "outputs": [
        {
          "output_type": "stream",
          "name": "stdout",
          "text": [
            "--2022-12-22 01:18:38--  https://raw.githubusercontent.com/ibarabasi/wordcount/master/wordcount\n",
            "Resolving raw.githubusercontent.com (raw.githubusercontent.com)... 185.199.108.133, 185.199.110.133, 185.199.111.133, ...\n",
            "Connecting to raw.githubusercontent.com (raw.githubusercontent.com)|185.199.108.133|:443... connected.\n",
            "HTTP request sent, awaiting response... 200 OK\n",
            "Length: 710 [text/plain]\n",
            "Saving to: ‘wordcount’\n",
            "\n",
            "wordcount           100%[===================>]     710  --.-KB/s    in 0s      \n",
            "\n",
            "2022-12-22 01:18:39 (24.7 MB/s) - ‘wordcount’ saved [710/710]\n",
            "\n",
            "Big data refers to the massive amount of data which cannot be stored, processed and analyzed using traditional ways.\n",
            "The main elements of big data are:\n",
            "Volume - There is a massive amount of data generated every second.\n",
            "Velocity - The speed at which data is generated, collected and analyzed\n",
            "Variety - The different types of data: structured, semi-structured, unstructured\n",
            "Value - The ability to turn data into useful insights for your business\n",
            "Veracity - Trustworthiness in terms of quality and accuracy\n",
            "The main challenges that big data faced and the solutions for each are listed below:\n",
            "Single central storage\n",
            "Serial processing\n",
            "One input\n",
            "One Output\n",
            "One Processor\n",
            "Lack of ability to process unstructured data\n"
          ]
        }
      ]
    },
    {
      "cell_type": "code",
      "metadata": {
        "id": "g3xYUMwgBfi1",
        "colab": {
          "base_uri": "https://localhost:8080/"
        },
        "outputId": "50b2c783-b25c-4d1c-ebb9-8301e037e85e"
      },
      "source": [
        "#Simple example to read text file\n",
        "rdd0 = sc.textFile(\"wordcount\")\n",
        "rdd0.take(20)"
      ],
      "execution_count": 5,
      "outputs": [
        {
          "output_type": "execute_result",
          "data": {
            "text/plain": [
              "['Big data refers to the massive amount of data which cannot be stored, processed and analyzed using traditional ways.',\n",
              " 'The main elements of big data are:',\n",
              " 'Volume - There is a massive amount of data generated every second.',\n",
              " 'Velocity - The speed at which data is generated, collected and analyzed',\n",
              " 'Variety - The different types of data: structured, semi-structured, unstructured',\n",
              " 'Value - The ability to turn data into useful insights for your business',\n",
              " 'Veracity - Trustworthiness in terms of quality and accuracy',\n",
              " 'The main challenges that big data faced and the solutions for each are listed below:',\n",
              " 'Single central storage',\n",
              " 'Serial processing',\n",
              " 'One input',\n",
              " 'One Output',\n",
              " 'One Processor',\n",
              " 'Lack of ability to process unstructured data']"
            ]
          },
          "metadata": {},
          "execution_count": 5
        }
      ]
    },
    {
      "cell_type": "code",
      "metadata": {
        "id": "vHUSahn0Bfi3",
        "colab": {
          "base_uri": "https://localhost:8080/"
        },
        "outputId": "1c81bcaa-38f7-4818-8219-fd6d6f87556b"
      },
      "source": [
        "word_counts = rdd0.flatMap(lambda line: line.split()).map(lambda word: (word, 1)).reduceByKey(lambda a, b: (a + b)).map(lambda x:(x[1],x[0]))\n",
        "\n",
        "word_counts.take(30)\n"
      ],
      "execution_count": 6,
      "outputs": [
        {
          "output_type": "execute_result",
          "data": {
            "text/plain": [
              "[(1, 'Big'),\n",
              " (8, 'data'),\n",
              " (1, 'refers'),\n",
              " (3, 'to'),\n",
              " (2, 'the'),\n",
              " (2, 'massive'),\n",
              " (2, 'amount'),\n",
              " (6, 'of'),\n",
              " (2, 'which'),\n",
              " (1, 'cannot'),\n",
              " (1, 'be'),\n",
              " (1, 'stored,'),\n",
              " (1, 'processed'),\n",
              " (4, 'and'),\n",
              " (2, 'analyzed'),\n",
              " (1, 'using'),\n",
              " (1, 'traditional'),\n",
              " (1, 'ways.'),\n",
              " (5, 'The'),\n",
              " (2, 'main'),\n",
              " (1, 'elements'),\n",
              " (2, 'big'),\n",
              " (1, 'are:'),\n",
              " (1, 'Volume'),\n",
              " (5, '-'),\n",
              " (1, 'There'),\n",
              " (2, 'is'),\n",
              " (1, 'a'),\n",
              " (1, 'generated'),\n",
              " (1, 'every')]"
            ]
          },
          "metadata": {},
          "execution_count": 6
        }
      ]
    },
    {
      "cell_type": "code",
      "metadata": {
        "id": "6LTmTVaDBfi5"
      },
      "source": [],
      "execution_count": 6,
      "outputs": []
    },
    {
      "cell_type": "markdown",
      "metadata": {
        "id": "qdhk4DAvBfi7"
      },
      "source": [
        "PART-2:  \"COMMON FRIENDS\" EXAMPLE USINg MAPREDUCE"
      ]
    },
    {
      "cell_type": "code",
      "metadata": {
        "id": "De0FS6zUBfi8",
        "colab": {
          "base_uri": "https://localhost:8080/"
        },
        "outputId": "33248a35-627a-46d2-d53a-bb4632a66e2e"
      },
      "source": [
        "# Load data from github\n",
        "!wget \"https://raw.githubusercontent.com/ibarabasi/wordcount/master/friends\"\n",
        "rdd = sc.textFile(\"friends\")\n",
        "!cat friends"
      ],
      "execution_count": 7,
      "outputs": [
        {
          "output_type": "stream",
          "name": "stdout",
          "text": [
            "--2022-12-22 01:18:45--  https://raw.githubusercontent.com/ibarabasi/wordcount/master/friends\n",
            "Resolving raw.githubusercontent.com (raw.githubusercontent.com)... 185.199.109.133, 185.199.110.133, 185.199.111.133, ...\n",
            "Connecting to raw.githubusercontent.com (raw.githubusercontent.com)|185.199.109.133|:443... connected.\n",
            "HTTP request sent, awaiting response... 200 OK\n",
            "Length: 193 [text/plain]\n",
            "Saving to: ‘friends’\n",
            "\n",
            "friends             100%[===================>]     193  --.-KB/s    in 0s      \n",
            "\n",
            "2022-12-22 01:18:45 (6.92 MB/s) - ‘friends’ saved [193/193]\n",
            "\n",
            "me Alice\n",
            "Henry me\n",
            "Henry Alice\n",
            "me Jane\n",
            "Alice John\n",
            "Jane John\n",
            "Judy Alice\n",
            "me Mary\n",
            "Mary Joyce\n",
            "Joyce Henry\n",
            "Judy me\n",
            "Judy Jane\n",
            "John Carol\n",
            "Carol me\n",
            "Mary Henry\n",
            "Louise Ronald\n",
            "Ronald Thomas\n",
            "William Thomas\n"
          ]
        }
      ]
    },
    {
      "cell_type": "code",
      "metadata": {
        "id": "dzxa1wFwBfi-",
        "colab": {
          "base_uri": "https://localhost:8080/"
        },
        "outputId": "5bd45b69-98b0-4a62-ef36-1372ff80a785"
      },
      "source": [
        "# Print the RDD content\n",
        "rdd.take(20)"
      ],
      "execution_count": 8,
      "outputs": [
        {
          "output_type": "execute_result",
          "data": {
            "text/plain": [
              "['me Alice',\n",
              " 'Henry me',\n",
              " 'Henry Alice',\n",
              " 'me Jane',\n",
              " 'Alice John',\n",
              " 'Jane John',\n",
              " 'Judy Alice',\n",
              " 'me Mary',\n",
              " 'Mary Joyce',\n",
              " 'Joyce Henry',\n",
              " 'Judy me',\n",
              " 'Judy Jane',\n",
              " 'John Carol',\n",
              " 'Carol me',\n",
              " 'Mary Henry',\n",
              " 'Louise Ronald',\n",
              " 'Ronald Thomas',\n",
              " 'William Thomas']"
            ]
          },
          "metadata": {},
          "execution_count": 8
        }
      ]
    },
    {
      "cell_type": "code",
      "metadata": {
        "id": "mFa-JguKBfjA",
        "colab": {
          "base_uri": "https://localhost:8080/"
        },
        "outputId": "939125b3-03b4-4a0d-9ed0-6c43ab50bbf4"
      },
      "source": [
        "rdd1=rdd.map(lambda x: x.split()).union(rdd.map(lambda x: x.split()[::-1]))\n",
        "# Bring my friend list to local\n",
        "lst = rdd1.filter(lambda x: x[0] == 'me').map(lambda x: x[1]).collect()\n",
        "# Build the second pair RDD\n",
        "rdd2 = rdd1.filter(lambda x: x[0] in lst).map(lambda x: x[1]). \\\n",
        "    filter(lambda x: x != 'me' and x not in lst). \\\n",
        "    map(lambda x: (x, 1)).reduceByKey(lambda a, b: a + b). \\\n",
        "    map(lambda x: (x[1], x[0])).sortByKey(ascending = False)\n",
        "# Bring the result to local since the sample is small\n",
        "for x, y in rdd2.collect():\n",
        "   print (\"The stranger {} has {} common friends with me\".format(y, x))\n"
      ],
      "execution_count": 9,
      "outputs": [
        {
          "output_type": "stream",
          "name": "stdout",
          "text": [
            "The stranger John has 3 common friends with me\n",
            "The stranger Joyce has 2 common friends with me\n"
          ]
        }
      ]
    },
    {
      "cell_type": "code",
      "metadata": {
        "id": "m1bHIAzFBfjC"
      },
      "source": [],
      "execution_count": 9,
      "outputs": []
    }
  ]
}